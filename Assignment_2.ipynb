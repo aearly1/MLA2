{
  "cells": [
    {
      "cell_type": "markdown",
      "metadata": {
        "id": "z55RmnNEU7sz"
      },
      "source": [
        "<h1><center>CSEN1022:Assignment 2</center></h1>\n",
        "<h3><center>Winter 2021</center></h3>\n",
        "<hr style=\"border:2px solid black\"> </hr>"
      ]
    },
    {
      "cell_type": "markdown",
      "metadata": {
        "id": "fwxLchVfU7s5"
      },
      "source": [
        "## <u> Please don't forget to fill in this data </u>\n",
        "**Member 1**\n",
        "\n",
        "Name: Salma ElSayed\n",
        "\n",
        "GUC-ID: 43-6801\n",
        "\n",
        "Elective Tutorial No.: No.: T4\n",
        "\n",
        "**Member 2**\n",
        "\n",
        "Name: Ali Elbadry\n",
        "\n",
        "GUC-ID: 43-6833\n",
        "\n",
        "Elective Tutorial No.: T2\n",
        "\n",
        "<hr style=\"border:2px solid black\"> </hr>"
      ]
    },
    {
      "cell_type": "markdown",
      "metadata": {
        "id": "8XMXJhU4U7s7"
      },
      "source": [
        "## Imports (Don't Edit)"
      ]
    },
    {
      "cell_type": "code",
      "execution_count": null,
      "metadata": {
        "id": "-pJtTKdqU7s8"
      },
      "outputs": [],
      "source": [
        "# ONLY USE THESE IMPORTS.\n",
        "# PLEASE DON'T EDIT THIS CELL.\n",
        "import numpy as np\n",
        "import matplotlib.pyplot as plt\n",
        "import cv2\n",
        "%matplotlib inline\n",
        "confusion_matrices_nb = []\n",
        "confusion_matrices_gm = []"
      ]
    },
    {
      "cell_type": "markdown",
      "source": [
        "## Create Classes"
      ],
      "metadata": {
        "id": "MOJB5OUzXCv1"
      }
    },
    {
      "cell_type": "code",
      "source": [
        "#Naive Bayes Classifier"
      ],
      "metadata": {
        "id": "Sli2GVObXJd9"
      },
      "execution_count": null,
      "outputs": []
    },
    {
      "cell_type": "code",
      "source": [
        "#Gaussian Generative Model Classifier"
      ],
      "metadata": {
        "id": "0wyPK03oXJTB"
      },
      "execution_count": null,
      "outputs": []
    },
    {
      "cell_type": "code",
      "source": [
        "class classifier:\n",
        "    \n",
        "    def __init__(self, airplane, automobile, frog):\n",
        "        self.airplaneClassifier = airplane\n",
        "        self.automobileClassifier = automobile\n",
        "        self.frogClassifier = frog\n",
        "    \n",
        "    def predict(self,datapoint):\n",
        "        y_airplane = self.airplaneClassifier.predict(datapoint)\n",
        "        y_automobile = self.automobileClassifier.predict(datapoint)\n",
        "        y_frog = self.frogClassifier.predict(datapoint)\n",
        "        if(y_airplane>=y_automobile and y_airplane>=y_frog):\n",
        "            return np.array([1,0,0])\n",
        "        if(y_automobile>y_airplane and y_automobile>=y_frog):\n",
        "            return np.array([0,1,0])\n",
        "        else:\n",
        "            return np.array([0,0,1])"
      ],
      "metadata": {
        "id": "sTAaW5H6XKMp"
      },
      "execution_count": null,
      "outputs": []
    },
    {
      "cell_type": "markdown",
      "metadata": {
        "id": "JJlmEScQU7s_"
      },
      "source": [
        "## Read Data"
      ]
    },
    {
      "cell_type": "code",
      "execution_count": null,
      "metadata": {
        "id": "TPe_MjeAU7s_"
      },
      "outputs": [],
      "source": [
        "from google.colab import files\n",
        "uploaded = files.upload()\n",
        "!unzip Data.zip"
      ]
    },
    {
      "cell_type": "code",
      "source": [
        "def read_train_rgb(name):\n",
        "    #train_path = '/content/Data/train/'\n",
        "    train_path = 'Data/train/'\n",
        "    data = np.array([plt.imread(train_path+name+'/{}.jpg'.format(i)) for i in np.arange(0,5000)])\n",
        "    data=data.reshape(-1,3072)\n",
        "    data=data/255\n",
        "    return data\n",
        "def read_test_rgb(name):\n",
        "    #train_path = '/content/Data/train/'\n",
        "    test_path = 'Data/test/'\n",
        "    data = np.array([plt.imread(test_path+name+'/{}.jpg'.format(i)) for i in np.arange(0,1000)])\n",
        "    data=data.reshape(-1,3072)\n",
        "    data=data/255\n",
        "    return data\n",
        "def create_labels(order):\n",
        "    pos= np.ones(5000)\n",
        "    neg =np.ones(5000)*-1\n",
        "    if (order==0):\n",
        "        labels = np.concatenate((pos,neg,neg))\n",
        "    if order==1:\n",
        "        labels = np.concatenate((neg,pos,neg))\n",
        "    if order==2:\n",
        "        labels = np.concatenate((neg,neg,pos))\n",
        "    return labels"
      ],
      "metadata": {
        "id": "AdWwRB1bWTDe"
      },
      "execution_count": null,
      "outputs": []
    },
    {
      "cell_type": "code",
      "source": [
        "airplane_train = read_train_rgb('airplane')\n",
        "automobile_train = read_train_rgb('automobile')\n",
        "frog_train = read_train_rgb('frog')"
      ],
      "metadata": {
        "id": "1zUnwpKiWaO8"
      },
      "execution_count": null,
      "outputs": []
    },
    {
      "cell_type": "code",
      "source": [
        "airplane_test= read_test_rgb('airplane')\n",
        "automobile_test= read_test_rgb('automobile')\n",
        "frog_test= read_test_rgb('frog')"
      ],
      "metadata": {
        "id": "rK6XSElcWaNm"
      },
      "execution_count": null,
      "outputs": []
    },
    {
      "cell_type": "code",
      "source": [
        "airplane_t=create_labels(0)\n",
        "automobile_t=create_labels(1)\n",
        "frog_t=create_labels(2)"
      ],
      "metadata": {
        "id": "m8am5w2jWfSs"
      },
      "execution_count": null,
      "outputs": []
    },
    {
      "cell_type": "code",
      "source": [
        "# return (x_train, y_train), (x_test, y_test)\n",
        "x_train = np.concatenate((airplane_train,automobile_train,frog_train))\n",
        "x_test=np.concatenate((airplane_test,automobile_test,frog_test))"
      ],
      "metadata": {
        "id": "L2lKX7cwWjyt"
      },
      "execution_count": null,
      "outputs": []
    },
    {
      "cell_type": "markdown",
      "metadata": {
        "id": "py7_fsyTU7tB"
      },
      "source": [
        "<hr style=\"border:2px solid black\"> </hr>\n",
        "\n",
        "## Construct Naive Bayes classifier for each of the 3 classes.\n",
        "#### Test each classifier on all images in X_Test. \n",
        "#### Construct Confusion Matrix."
      ]
    },
    {
      "cell_type": "code",
      "execution_count": null,
      "metadata": {
        "id": "SKGJ5yYxU7tD"
      },
      "outputs": [],
      "source": [
        "#confusion_matrices_nb += [confusion_matrix]"
      ]
    },
    {
      "cell_type": "markdown",
      "metadata": {
        "id": "t9k6Qew8U7tE"
      },
      "source": [
        "<hr style=\"border:2px solid black\"> </hr>\n",
        "\n",
        "## Construct Gaussian Generative Model classifier for each of the 3 classes.\n",
        "#### Test each classifier on all images in X_Test. \n",
        "#### Construct Confusion Matrix."
      ]
    },
    {
      "cell_type": "code",
      "execution_count": null,
      "metadata": {
        "id": "KEoaBu37U7tH"
      },
      "outputs": [],
      "source": [
        "#confusion_matrices_gm += [confusion_matrix]"
      ]
    },
    {
      "cell_type": "markdown",
      "metadata": {
        "id": "bva0bFS1U7tI"
      },
      "source": [
        "<hr style=\"border:2px solid black\"> </hr>\n",
        "\n",
        "## Repeat previous two confusion matrices for image sizes 16,8,4.\n",
        "### Return confusion_matrices (array containing 8 matrices, 4 for naive bayes, 4 for gaussian generative model). \n",
        "#### confusion_matrices_nb = [confusion_matrix_nb_32, confusion_matrix_nb_16, confusion_matrix_nb_8, confusion_matrix_nb_4].\n",
        "#### confusion_matrices_gm = [confusion_matrix_gm_32, confusion_matrix_gm_16, confusion_matrix_gm_8, confusion_matrix_gm_4]."
      ]
    },
    {
      "cell_type": "code",
      "execution_count": null,
      "metadata": {
        "id": "D8vy5k7TU7tK"
      },
      "outputs": [],
      "source": [
        "#confusion_matrices = confusion_matrices_nb + confusion_matrices_gm"
      ]
    },
    {
      "cell_type": "markdown",
      "metadata": {
        "id": "gdmdMVVpU7tL"
      },
      "source": [
        "<hr style=\"border:2px solid black\"> </hr>\n",
        "\n",
        "## The below 2 cells will only work if you return confusion_matrices (previous cell) with all 8 matrices in it.\n",
        "## Please don't edit the below cells.\n",
        "## Please run them and save the notebook before uploading so the script can check the saved image.\n",
        "## Please don't change the order of the matrices.\n"
      ]
    },
    {
      "cell_type": "code",
      "execution_count": null,
      "metadata": {
        "id": "5t2sw8D1U7tM"
      },
      "outputs": [],
      "source": [
        "dims = [32,16,8,4,32,16,8,4]\n",
        "fig, axs = plt.subplots(2, 4,figsize=(20,10))\n",
        "fig.suptitle(\"Confusion Matrix for each Scale\",fontsize=30)\n",
        "for pi in range(0,axs.shape[0]):\n",
        "    for pj in range(0,axs.shape[1]):\n",
        "        index = np.round(pi*4+pj)\n",
        "        cm = confusion_matrices[index]\n",
        "        axs[pi,pj].matshow(cm,cmap=\"Blues\")\n",
        "        axs[pi,pj].set_title(\"For d=\"+str(dims[index])+\" ,acc=\"+str(np.round(np.diag(cm).sum()/3000,3)),fontsize=20)\n",
        "        for i in range(0,cm.shape[0]):\n",
        "            for j in range(0,cm.shape[1]):\n",
        "                axs[pi,pj].set_xticks([])\n",
        "                axs[pi,pj].set_yticks([])\n",
        "                axs[pi,pj].annotate(cm[i,j],(j,i))"
      ]
    },
    {
      "cell_type": "code",
      "execution_count": null,
      "metadata": {
        "id": "Bsuy59lWU7tN"
      },
      "outputs": [],
      "source": [
        "plt.figure(figsize=(20,10))\n",
        "plt.plot(dims[:4],[np.diag(cm).sum()/3000 for cm in confusion_matrices_nb],color='orange')\n",
        "plt.plot(dims[:4],[np.diag(cm).sum()/3000 for cm in confusion_matrices_gm],color='blue')\n",
        "plt.xlabel('Scale')\n",
        "plt.ylabel('Accuracy')\n",
        "plt.title('NB VS GM')"
      ]
    },
    {
      "cell_type": "markdown",
      "metadata": {
        "id": "N8QHidFnU7tO"
      },
      "source": [
        "<hr style=\"border:2px solid black\"> </hr>\n",
        "\n",
        "## Comment on the results ##\n",
        "\n",
        "### \n",
        "Edit Here\n",
        "###"
      ]
    }
  ],
  "metadata": {
    "interpreter": {
      "hash": "31f2aee4e71d21fbe5cf8b01ff0e069b9275f58929596ceb00d14d90e3e16cd6"
    },
    "kernelspec": {
      "display_name": "Python 3",
      "language": "python",
      "name": "python3"
    },
    "language_info": {
      "codemirror_mode": {
        "name": "ipython",
        "version": 3
      },
      "file_extension": ".py",
      "mimetype": "text/x-python",
      "name": "python",
      "nbconvert_exporter": "python",
      "pygments_lexer": "ipython3",
      "version": "3.6.13"
    },
    "colab": {
      "name": "Assignment_2.ipynb",
      "provenance": []
    }
  },
  "nbformat": 4,
  "nbformat_minor": 0
}